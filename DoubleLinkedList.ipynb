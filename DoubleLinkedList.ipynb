{
 "cells": [
  {
   "cell_type": "code",
   "execution_count": 6,
   "id": "2690f44d-a9a7-4d5b-81b1-d9488a517f4f",
   "metadata": {},
   "outputs": [],
   "source": [
    "class Node:\n",
    "    def __init__(self, value):\n",
    "        self.value = value\n",
    "        self.next = None\n",
    "        self.prev = None\n",
    "\n",
    "class DoubleLinkedList:\n",
    "    def __init__(self):\n",
    "        self.head = None\n",
    "        self.tail = None\n",
    "\n",
    "    def add_to_end(self, value):\n",
    "        ref = Node(value)\n",
    "        ref.prev = self.tail\n",
    "        if self.tail != None:\n",
    "            self.tail.next = ref\n",
    "        self.tail = ref\n",
    "        if self.head == None:\n",
    "            self.head = ref\n",
    "\n",
    "    def add_to_front(self, value):\n",
    "        ref = Node(value)\n",
    "        if self.head != None:\n",
    "            ref.next = self.head\n",
    "            self.head.prev = ref\n",
    "        self.head = ref\n",
    "        if self.tail == None:\n",
    "            self.tail = ref\n",
    "    def show(self):\n",
    "        current = self.head\n",
    "        while current != None:\n",
    "            print(current.value, end=\" \")\n",
    "            current = current.next\n",
    "\n",
    "    def show_rev(self):\n",
    "        current = self.tail\n",
    "        while current != None:\n",
    "            print(current.value, end =\" \")\n",
    "            current = current.prev"
   ]
  },
  {
   "cell_type": "code",
   "execution_count": 7,
   "id": "68307919-3970-4784-9705-598ece0eb1d0",
   "metadata": {},
   "outputs": [],
   "source": [
    "dl = DoubleLinkedList()"
   ]
  },
  {
   "cell_type": "code",
   "execution_count": 8,
   "id": "212c3e07-8556-4da7-be2b-b84314ae7011",
   "metadata": {},
   "outputs": [],
   "source": [
    "dl.add_to_end(5)\n",
    "dl.add_to_end(2)\n",
    "dl.add_to_front(7)\n",
    "dl.add_to_front(0)"
   ]
  },
  {
   "cell_type": "code",
   "execution_count": 9,
   "id": "2d842622-28df-4063-9b03-896a794411a0",
   "metadata": {},
   "outputs": [
    {
     "name": "stdout",
     "output_type": "stream",
     "text": [
      "0 7 5 2 "
     ]
    }
   ],
   "source": [
    "#Show double the linked list\n",
    "dl.show()"
   ]
  },
  {
   "cell_type": "code",
   "execution_count": 10,
   "id": "67f505f7-5ee9-4c6b-a4fc-8338b70e2b24",
   "metadata": {},
   "outputs": [
    {
     "name": "stdout",
     "output_type": "stream",
     "text": [
      "2 5 7 0 "
     ]
    }
   ],
   "source": [
    "# show the reverse linked list\n",
    "dl.show_rev()"
   ]
  }
 ],
 "metadata": {
  "kernelspec": {
   "display_name": "Python 3 (ipykernel)",
   "language": "python",
   "name": "python3"
  },
  "language_info": {
   "codemirror_mode": {
    "name": "ipython",
    "version": 3
   },
   "file_extension": ".py",
   "mimetype": "text/x-python",
   "name": "python",
   "nbconvert_exporter": "python",
   "pygments_lexer": "ipython3",
   "version": "3.11.4"
  }
 },
 "nbformat": 4,
 "nbformat_minor": 5
}
